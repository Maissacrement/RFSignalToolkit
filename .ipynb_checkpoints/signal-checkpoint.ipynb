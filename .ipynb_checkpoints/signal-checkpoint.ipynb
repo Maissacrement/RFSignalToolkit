{
 "cells": [
  {
   "cell_type": "code",
   "execution_count": 41,
   "id": "purple-boulder",
   "metadata": {},
   "outputs": [],
   "source": [
    "from backend.core.analyse import Analyse\n",
    "from backend.function.dataframes import convertToMagnet\n",
    "import json\n",
    "import matplotlib.pyplot as plt"
   ]
  },
  {
   "cell_type": "code",
   "execution_count": 42,
   "id": "major-verification",
   "metadata": {},
   "outputs": [],
   "source": [
    "analyse = Analyse()"
   ]
  },
  {
   "cell_type": "code",
   "execution_count": 43,
   "id": "fabulous-tourist",
   "metadata": {},
   "outputs": [],
   "source": [
    "ble = open('./backend/json/Ble.json')"
   ]
  },
  {
   "cell_type": "code",
   "execution_count": 44,
   "id": "labeled-european",
   "metadata": {},
   "outputs": [],
   "source": [
    "ble = json.load(ble)\n",
    "ble = convertToMagnet(ble)\n",
    "analyse.provideDataset(False, ble)"
   ]
  },
  {
   "cell_type": "code",
   "execution_count": 63,
   "id": "fancy-singing",
   "metadata": {},
   "outputs": [],
   "source": [
    "Fm=60000\n",
    "freq, signal = analyse.changeFrequency( Fm )"
   ]
  },
  {
   "cell_type": "code",
   "execution_count": 92,
   "id": "connected-bernard",
   "metadata": {},
   "outputs": [
    {
     "data": {
      "image/png": "[encoded data removed]",
      "text/plain": [
       "<Figure size 432x288 with 1 Axes>"
      ]
     },
     "metadata": {
      "needs_background": "light"
     },
     "output_type": "display_data"
    }
   ],
   "source": [
    "plt.plot(freq, signal.real, label=\"Signal\")\n",
    "plt.show()"
   ]
  },
  {
   "cell_type": "code",
   "execution_count": 99,
   "id": "wrong-illustration",
   "metadata": {},
   "outputs": [
    {
     "data": {
      "image/png": "[encoded data removed]",
      "text/plain": [
       "<Figure size 432x288 with 1 Axes>"
      ]
     },
     "metadata": {
      "needs_background": "light"
     },
     "output_type": "display_data"
    }
   ],
   "source": [
    "plt.plot(freq, signal.real, label=\"Signal\")\n",
    "plt.xlim((1 * (10**7), 1.5 * (10**7)))\n",
    "plt.show()"
   ]
  },
  {
   "cell_type": "code",
   "execution_count": null,
   "id": "unique-dragon",
   "metadata": {},
   "outputs": [],
   "source": []
  },
  {
   "cell_type": "code",
   "execution_count": null,
   "id": "bright-search",
   "metadata": {},
   "outputs": [],
   "source": []
  }
 ],
 "metadata": {
  "kernelspec": {
   "display_name": "Python 3",
   "language": "python",
   "name": "python3"
  },
  "language_info": {
   "codemirror_mode": {
    "name": "ipython",
    "version": 3
   },
   "file_extension": ".py",
   "mimetype": "text/x-python",
   "name": "python",
   "nbconvert_exporter": "python",
   "pygments_lexer": "ipython3",
   "version": "3.9.5"
  }
 },
 "nbformat": 4,
 "nbformat_minor": 5
}
