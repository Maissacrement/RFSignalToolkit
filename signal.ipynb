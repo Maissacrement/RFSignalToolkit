{
 "cells": [
  {
   "cell_type": "code",
   "execution_count": null,
   "id": "purple-boulder",
   "metadata": {},
   "outputs": [
    {
     "ename": "",
     "evalue": "",
     "output_type": "error",
     "traceback": [
      "\u001b[1;31mFailed to start the Kernel. \n",
      "\u001b[1;31mERROR: Can not combine '--user' and '--target'. \n",
      "\u001b[1;31mView Jupyter <a href='command:jupyter.viewOutput'>log</a> for further details."
     ]
    }
   ],
   "source": [
    "from backend.core.analyse import Analyse\n",
    "from backend.core.can import CAN\n",
    "from backend.function.dataframes import convertToMagnet\n",
    "import json\n",
    "import matplotlib.pyplot as plt\n",
    "import numpy as np\n",
    "import codext\n",
    "import pyshark"
   ]
  },
  {
   "cell_type": "code",
   "execution_count": null,
   "id": "major-verification",
   "metadata": {},
   "outputs": [
    {
     "ename": "",
     "evalue": "",
     "output_type": "error",
     "traceback": [
      "\u001b[1;31mFailed to start the Kernel. \n",
      "\u001b[1;31mERROR: Can not combine '--user' and '--target'. \n",
      "\u001b[1;31mView Jupyter <a href='command:jupyter.viewOutput'>log</a> for further details."
     ]
    }
   ],
   "source": [
    "analyse = Analyse()"
   ]
  },
  {
   "cell_type": "code",
   "execution_count": null,
   "id": "fabulous-tourist",
   "metadata": {},
   "outputs": [
    {
     "ename": "",
     "evalue": "",
     "output_type": "error",
     "traceback": [
      "\u001b[1;31mFailed to start the Kernel. \n",
      "\u001b[1;31mERROR: Can not combine '--user' and '--target'. \n",
      "\u001b[1;31mView Jupyter <a href='command:jupyter.viewOutput'>log</a> for further details."
     ]
    }
   ],
   "source": [
    "ble = open('./backend/json/Ble.json')"
   ]
  },
  {
   "cell_type": "code",
   "execution_count": null,
   "id": "labeled-european",
   "metadata": {},
   "outputs": [
    {
     "ename": "",
     "evalue": "",
     "output_type": "error",
     "traceback": [
      "\u001b[1;31mFailed to start the Kernel. \n",
      "\u001b[1;31mERROR: Can not combine '--user' and '--target'. \n",
      "\u001b[1;31mView Jupyter <a href='command:jupyter.viewOutput'>log</a> for further details."
     ]
    }
   ],
   "source": [
    "ble = json.load(ble)\n",
    "ble = convertToMagnet(ble)\n",
    "analyse.provideDataset(False, ble)"
   ]
  },
  {
   "cell_type": "code",
   "execution_count": null,
   "id": "fancy-singing",
   "metadata": {
    "scrolled": true
   },
   "outputs": [
    {
     "ename": "",
     "evalue": "",
     "output_type": "error",
     "traceback": [
      "\u001b[1;31mFailed to start the Kernel. \n",
      "\u001b[1;31mERROR: Can not combine '--user' and '--target'. \n",
      "\u001b[1;31mView Jupyter <a href='command:jupyter.viewOutput'>log</a> for further details."
     ]
    }
   ],
   "source": [
    "Fm=60000\n",
    "freq, signal = analyse.changeFrequency( Fm )"
   ]
  },
  {
   "cell_type": "code",
   "execution_count": null,
   "id": "connected-bernard",
   "metadata": {},
   "outputs": [
    {
     "ename": "",
     "evalue": "",
     "output_type": "error",
     "traceback": [
      "\u001b[1;31mFailed to start the Kernel. \n",
      "\u001b[1;31mERROR: Can not combine '--user' and '--target'. \n",
      "\u001b[1;31mView Jupyter <a href='command:jupyter.viewOutput'>log</a> for further details."
     ]
    }
   ],
   "source": [
    "plt.plot(freq, signal.real, label=\"Signal\")\n",
    "plt.show()"
   ]
  },
  {
   "cell_type": "code",
   "execution_count": null,
   "id": "wrong-illustration",
   "metadata": {},
   "outputs": [
    {
     "ename": "",
     "evalue": "",
     "output_type": "error",
     "traceback": [
      "\u001b[1;31mFailed to start the Kernel. \n",
      "\u001b[1;31mERROR: Can not combine '--user' and '--target'. \n",
      "\u001b[1;31mView Jupyter <a href='command:jupyter.viewOutput'>log</a> for further details."
     ]
    }
   ],
   "source": [
    "numericalAnalysis=CAN()\n",
    "n=numericalAnalysis.can(15, signal.real)\n",
    "plt.plot(freq, n, label=\"Signal\")"
   ]
  },
  {
   "cell_type": "code",
   "execution_count": null,
   "id": "unique-dragon",
   "metadata": {},
   "outputs": [
    {
     "ename": "",
     "evalue": "",
     "output_type": "error",
     "traceback": [
      "\u001b[1;31mFailed to start the Kernel. \n",
      "\u001b[1;31mERROR: Can not combine '--user' and '--target'. \n",
      "\u001b[1;31mView Jupyter <a href='command:jupyter.viewOutput'>log</a> for further details."
     ]
    }
   ],
   "source": [
    "n=np.array(n)\n",
    "n=n[n<10].tolist()"
   ]
  },
  {
   "cell_type": "code",
   "execution_count": null,
   "id": "bright-search",
   "metadata": {},
   "outputs": [
    {
     "ename": "",
     "evalue": "",
     "output_type": "error",
     "traceback": [
      "\u001b[1;31mFailed to start the Kernel. \n",
      "\u001b[1;31mERROR: Can not combine '--user' and '--target'. \n",
      "\u001b[1;31mView Jupyter <a href='command:jupyter.viewOutput'>log</a> for further details."
     ]
    }
   ],
   "source": [
    "l=range(len(n))\n",
    "plt.plot(l, n, label=\"Signal\")"
   ]
  },
  {
   "cell_type": "code",
   "execution_count": null,
   "id": "6d3670e3",
   "metadata": {},
   "outputs": [
    {
     "ename": "",
     "evalue": "",
     "output_type": "error",
     "traceback": [
      "\u001b[1;31mFailed to start the Kernel. \n",
      "\u001b[1;31mERROR: Can not combine '--user' and '--target'. \n",
      "\u001b[1;31mView Jupyter <a href='command:jupyter.viewOutput'>log</a> for further details."
     ]
    }
   ],
   "source": [
    "p=''.join([ chr(int(x, 16)) for x in numericalAnalysis.qbits(n) ])\n",
    "p=bytes.fromhex(''.join(numericalAnalysis.qbits(n))).decode('ascii', 'ignore')\n",
    "binary_packet=codext.decode(p, \"ethernet\")\n"
   ]
  },
  {
   "cell_type": "code",
   "execution_count": null,
   "id": "9c282008",
   "metadata": {},
   "outputs": [
    {
     "ename": "",
     "evalue": "",
     "output_type": "error",
     "traceback": [
      "\u001b[1;31mFailed to start the Kernel. \n",
      "\u001b[1;31mERROR: Can not combine '--user' and '--target'. \n",
      "\u001b[1;31mView Jupyter <a href='command:jupyter.viewOutput'>log</a> for further details."
     ]
    }
   ],
   "source": [
    "\n",
    "binary_packet"
   ]
  },
  {
   "cell_type": "code",
   "execution_count": null,
   "id": "d377e2c1",
   "metadata": {},
   "outputs": [
    {
     "ename": "",
     "evalue": "",
     "output_type": "error",
     "traceback": [
      "\u001b[1;31mFailed to start the Kernel. \n",
      "\u001b[1;31mERROR: Can not combine '--user' and '--target'. \n",
      "\u001b[1;31mView Jupyter <a href='command:jupyter.viewOutput'>log</a> for further details."
     ]
    }
   ],
   "source": [
    "p"
   ]
  }
 ],
 "metadata": {
  "kernelspec": {
   "display_name": "Python 3",
   "language": "python",
   "name": "python3"
  },
  "language_info": {
   "codemirror_mode": {
    "name": "ipython",
    "version": 3
   },
   "file_extension": ".py",
   "mimetype": "text/x-python",
   "name": "python",
   "nbconvert_exporter": "python",
   "pygments_lexer": "ipython3",
   "version": "3.10.6 (main, Nov 14 2022, 16:10:14) [GCC 11.3.0]"
  },
  "vscode": {
   "interpreter": {
    "hash": "e7370f93d1d0cde622a1f8e1c04877d8463912d04d973331ad4851f04de6915a"
   }
  }
 },
 "nbformat": 4,
 "nbformat_minor": 5
}
