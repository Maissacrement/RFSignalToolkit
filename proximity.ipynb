{
 "cells": [
  {
   "cell_type": "code",
   "execution_count": 37,
   "id": "purple-boulder",
   "metadata": {},
   "outputs": [],
   "source": [
    "from backend.core.analyse import Analyse\n",
    "from backend.function.dataframes import convertToMagnet\n",
    "import json\n",
    "import matplotlib.pyplot as plt\n",
    "import numpy as np"
   ]
  },
  {
   "cell_type": "code",
   "execution_count": 38,
   "id": "toxic-arabic",
   "metadata": {},
   "outputs": [],
   "source": [
    "analyse = Analyse()\n",
    "ble = open('./backend/json/Ble.json') # import des donné\n",
    "ble = json.load(ble) # On converti les donné"
   ]
  },
  {
   "cell_type": "code",
   "execution_count": 39,
   "id": "continental-change",
   "metadata": {},
   "outputs": [
    {
     "name": "stdout",
     "output_type": "stream",
     "text": [
      "Le dataset: \n",
      "      createdAtNs               magnet    initialTime     result  \\\n",
      "x  6266926915594       [0.12, 199.08]  6239985773844 -39366.797   \n",
      "y  6266926915594  [-52.379997, 30.96]  6239985773844 -39366.797   \n",
      "z  6266926915594     [199.08, -18.48]  6239985773844 -39366.797   \n",
      "\n",
      "       coordinates       time  \n",
      "x  [0.0, 0.0, 0.0]  26.941142  \n",
      "y  [0.0, 0.0, 0.0]  26.941142  \n",
      "z  [0.0, 0.0, 0.0]  26.941142  \n",
      "Les 3 premier element de la norme de B:  1.7247094711863793e-07\n"
     ]
    }
   ],
   "source": [
    "df = convertToMagnet(ble) # Format du dataset\n",
    "analyse.provideDataset(False, df)\n",
    "B=analyse.getMagneticFieldNormal() # magnet normal\n",
    "print(\"Le dataset: \\n\", df.head(3))\n",
    "print(\"Les 3 premier element de la norme de B: \", B[-3])"
   ]
  },
  {
   "cell_type": "code",
   "execution_count": 40,
   "id": "governmental-progress",
   "metadata": {},
   "outputs": [
    {
     "name": "stdout",
     "output_type": "stream",
     "text": [
      "Le dataset du champ magnetique avec:\n",
      " [0:magnet, 1:iron magnet(https://en.wikipedia.org/wiki/Iron)]\n",
      "\n",
      "      createdAtNs               magnet\n",
      "x  6266926915594       [0.12, 199.08]\n",
      "y  6266926915594  [-52.379997, 30.96]\n",
      "z  6266926915594     [199.08, -18.48]\n"
     ]
    }
   ],
   "source": [
    "print(\"Le dataset du champ magnetique avec:\\n [0:magnet, 1:iron magnet(https://en.wikipedia.org/wiki/Iron)]\\n\\n\",\n",
    "      df[['createdAtNs', 'magnet']].head(3))"
   ]
  },
  {
   "cell_type": "code",
   "execution_count": 43,
   "id": "forty-novel",
   "metadata": {},
   "outputs": [
    {
     "name": "stdout",
     "output_type": "stream",
     "text": [
      "2.0099494721533362e-07\n",
      "2.0099494721533362e-07\n",
      "2.0099494721533362e-07\n",
      "2.0099494721533362e-07\n",
      "2.0099494721533362e-07\n",
      "2.0099494721533362e-07\n",
      "2.0098932758647028e-07\n",
      "2.0099494721533362e-07\n",
      "2.0099500069285623e-07\n",
      "2.0098600273619813e-07\n",
      "2.0099500069285623e-07\n",
      "2.0099500069285623e-07\n",
      "2.0099494721533362e-07\n",
      "2.0099494721533362e-07\n",
      "2.0099500069285623e-07\n",
      "2.0098600273619813e-07\n",
      "2.0098932758647028e-07\n",
      "2.0099929709053224e-07\n",
      "2.0099494721533362e-07\n",
      "2.0099494721533362e-07\n",
      "2.0099494721533362e-07\n",
      "2.0099500069285623e-07\n",
      "2.0097416071225895e-07\n",
      "2.0101569101461724e-07\n",
      "2.0098600273619813e-07\n",
      "2.0099494721533362e-07\n",
      "2.0099929709053224e-07\n",
      "2.0099494721533362e-07\n",
      "2.0098932758647028e-07\n",
      "2.0099500069285623e-07\n",
      "2.0099494721533362e-07\n",
      "2.0099494721533362e-07\n",
      "2.0099494721533362e-07\n",
      "2.0099494721533362e-07\n",
      "2.0099494721533362e-07\n",
      "2.0099494721533362e-07\n",
      "2.0099494721533362e-07\n",
      "2.0098932758647028e-07\n",
      "2.0099500069285623e-07\n",
      "2.0099494721533362e-07\n",
      "2.0099494721533362e-07\n",
      "2.0098932758647028e-07\n",
      "2.0099500069285623e-07\n",
      "2.0098932758647028e-07\n",
      "2.0099494721533362e-07\n",
      "2.0099500069285623e-07\n",
      "2.0099494721533362e-07\n",
      "2.0099494721533362e-07\n",
      "2.0189896118704178e-07\n"
     ]
    }
   ],
   "source": [
    "signal, p=[], 0\n",
    "for i in range(analyse.secondLength):\n",
    "    omegaN=len(analyse.getSetBySecond(i+1))\n",
    "    if i != 0:\n",
    "        Bsecond=B[p:p+omegaN]\n",
    "        vitesse=sum(Bsecond)/len(Bsecond)\n",
    "        print(vitesse)"
   ]
  },
  {
   "cell_type": "code",
   "execution_count": null,
   "id": "funded-parameter",
   "metadata": {},
   "outputs": [],
   "source": []
  }
 ],
 "metadata": {
  "kernelspec": {
   "display_name": "Python 3",
   "language": "python",
   "name": "python3"
  },
  "language_info": {
   "codemirror_mode": {
    "name": "ipython",
    "version": 3
   },
   "file_extension": ".py",
   "mimetype": "text/x-python",
   "name": "python",
   "nbconvert_exporter": "python",
   "pygments_lexer": "ipython3",
   "version": "3.9.5"
  }
 },
 "nbformat": 4,
 "nbformat_minor": 5
}
